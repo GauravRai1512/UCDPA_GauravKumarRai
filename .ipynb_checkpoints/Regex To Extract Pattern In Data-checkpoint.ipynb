{
 "cells": [
  {
   "cell_type": "code",
   "execution_count": 2,
   "id": "04766aac",
   "metadata": {},
   "outputs": [],
   "source": [
    "# Regular Expression\n",
    "import re\n",
    "import requests"
   ]
  },
  {
   "cell_type": "code",
   "execution_count": 22,
   "id": "144a438c",
   "metadata": {},
   "outputs": [
    {
     "name": "stdout",
     "output_type": "stream",
     "text": [
      "['$5', '$10']\n"
     ]
    }
   ],
   "source": [
    "Text = \"The price of water is $5 and coke is $10\"\n",
    "\n",
    "result = re.findall(\"\\W\\d+\", Text)\n",
    "print(result)"
   ]
  },
  {
   "cell_type": "code",
   "execution_count": 32,
   "id": "29891068",
   "metadata": {},
   "outputs": [
    {
     "name": "stdout",
     "output_type": "stream",
     "text": [
      "['LK089343', 'UK904567', 'MX787654']\n"
     ]
    }
   ],
   "source": [
    "# Extracting passport number from the text\n",
    "\n",
    "text = \"My indian passport number is LK089343 and for my wife is UK904567 and my wife is MX787654\"\n",
    "passResult = re.findall(r'[A-Z]{2}[0-9]{6}',text)\n",
    "print(passResult)"
   ]
  },
  {
   "cell_type": "code",
   "execution_count": 34,
   "id": "7dcdb03f",
   "metadata": {},
   "outputs": [
    {
     "name": "stdout",
     "output_type": "stream",
     "text": [
      "['+353 9876 654 322', '+91 7894 565 122', '+1 67655 554', '+916765654323']\n"
     ]
    }
   ],
   "source": [
    "a = '+353 9876 654 322 skgaslkdgslk +91 7894 565 122 wkjfhwekufhwelkjfwklfgwlfgjhgrh6416357253t $^%$&^%  +1 67655 554 765 788 iuyugjhgdjhwgf +916765654323' \n",
    "identifyNumber = re.findall('\\+\\d+\\s?\\d{4}\\s?\\d+\\s?\\d+', a)\n",
    "print(identifyNumber)"
   ]
  },
  {
   "cell_type": "code",
   "execution_count": 20,
   "id": "2e4df576",
   "metadata": {},
   "outputs": [],
   "source": [
    "url = 'https://en.wikipedia.org/wiki/Machine_learning'\n",
    "    # Sends a http request to get the text from project Gutenberg\n",
    "def get_wikipedia(url):\n",
    "    data = requests.get(url).text\n",
    "    start = re.search('Artificial intelligence', data).end()\n",
    "    stop = re.search('Data mining').start()\n",
    "    text = raw[start:stop]\n",
    "    return text\n",
    "    # Discards the metadata from the beginning of the book"
   ]
  },
  {
   "cell_type": "code",
   "execution_count": null,
   "id": "fa04001b",
   "metadata": {},
   "outputs": [],
   "source": []
  }
 ],
 "metadata": {
  "kernelspec": {
   "display_name": "Python 3 (ipykernel)",
   "language": "python",
   "name": "python3"
  },
  "language_info": {
   "codemirror_mode": {
    "name": "ipython",
    "version": 3
   },
   "file_extension": ".py",
   "mimetype": "text/x-python",
   "name": "python",
   "nbconvert_exporter": "python",
   "pygments_lexer": "ipython3",
   "version": "3.9.12"
  }
 },
 "nbformat": 4,
 "nbformat_minor": 5
}
