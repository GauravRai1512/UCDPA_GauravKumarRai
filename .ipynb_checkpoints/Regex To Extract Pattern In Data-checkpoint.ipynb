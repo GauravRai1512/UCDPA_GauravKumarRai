{
 "cells": [
  {
   "cell_type": "code",
   "execution_count": 2,
   "id": "04766aac",
   "metadata": {},
   "outputs": [],
   "source": [
    "# Regular Expression\n",
    "import re\n",
    "import requests"
   ]
  },
  {
   "cell_type": "code",
   "execution_count": 22,
   "id": "144a438c",
   "metadata": {},
   "outputs": [
    {
     "name": "stdout",
     "output_type": "stream",
     "text": [
      "['$5', '$10']\n"
     ]
    }
   ],
   "source": [
    "Text = \"The price of water is $5 and coke is $10\"\n",
    "\n",
    "result = re.findall(\"\\W\\d+\", Text)\n",
    "print(result)"
   ]
  },
  {
   "cell_type": "code",
   "execution_count": 32,
   "id": "29891068",
   "metadata": {},
   "outputs": [
    {
     "name": "stdout",
     "output_type": "stream",
     "text": [
      "['LK089343', 'UK904567', 'MX787654']\n"
     ]
    }
   ],
   "source": [
    "# Extracting passport number from the text\n",
    "\n",
    "text = \"My indian passport number is LK089343 and for my wife is UK904567 and my wife is MX787654\"\n",
    "passResult = re.findall(r'[A-Z]{2}[0-9]{6}',text)\n",
    "print(passResult)"
   ]
  },
  {
   "cell_type": "code",
   "execution_count": 34,
   "id": "7dcdb03f",
   "metadata": {},
   "outputs": [
    {
     "name": "stdout",
     "output_type": "stream",
     "text": [
      "['+353 9876 654 322', '+91 7894 565 122', '+1 67655 554', '+916765654323']\n"
     ]
    }
   ],
   "source": [
    "a = '+353 9876 654 322 skgaslkdgslk +91 7894 565 122 wkjfhwekufhwelkjfwklfgwlfgjhgrh6416357253t $^%$&^%  +1 67655 554 765 788 iuyugjhgdjhwgf +916765654323' \n",
    "identifyNumber = re.findall('\\+\\d+\\s?\\d{4}\\s?\\d+\\s?\\d+', a)\n",
    "print(identifyNumber)"
   ]
  },
  {
   "cell_type": "code",
   "execution_count": 27,
   "id": "2e4df576",
   "metadata": {},
   "outputs": [
    {
     "name": "stdout",
     "output_type": "stream",
     "text": [
      "The email n.john.smith@gmail.com is a valid email\n",
      "The email 87victory@hotmail.com is a valid email\n",
      "The email !#mary-=@msca.net is invalid\n"
     ]
    }
   ],
   "source": [
    "list_of_emails=['n.john.smith@gmail.com', '87victory@hotmail.com', '!#mary-=@msca.net']\n",
    "for example in list_of_emails:\n",
    "  \t# Match the regex to the string\n",
    "    if re.match(r'[A-Za-z0-9!#%&*\\$\\.]+@\\w+\\.com', example):\n",
    "        # Complete the format method to print out the result\n",
    "      \tprint(\"The email {email_example} is a valid email\".format(email_example=example))\n",
    "    else:\n",
    "      \tprint(\"The email {email_example} is invalid\".format(email_example=example)) "
   ]
  },
  {
   "cell_type": "code",
   "execution_count": 31,
   "id": "205681ae",
   "metadata": {},
   "outputs": [
    {
     "name": "stdout",
     "output_type": "stream",
     "text": [
      "The password Google34!test is a valid password\n",
      "The password My87hou#4$ is a valid password\n",
      "The password abc123 is not a valid password\n"
     ]
    }
   ],
   "source": [
    "list_of_password=['Google34!test', 'My87hou#4$', 'abc123']\n",
    "for password in list_of_password:\n",
    "  \t# Scan the strings to find a match\n",
    "    if re.search(r'[A-Za-z0-9!#%&*\\$\\.]{8,20}', password):\n",
    "        # Complete the format method to print out the result\n",
    "      \tprint(\"The password {pass_example} is a valid password\".format(pass_example=password))\n",
    "    else:\n",
    "      \tprint(\"The password {pass_example} is not a valid password\".format(pass_example=password)) "
   ]
  },
  {
   "cell_type": "code",
   "execution_count": 32,
   "id": "fe4c7ed1",
   "metadata": {},
   "outputs": [
    {
     "name": "stdout",
     "output_type": "stream",
     "text": [
      "Your tag body is closed\n",
      "Your tag article is closed\n",
      "Close your nav tag!\n"
     ]
    }
   ],
   "source": [
    "html_tags=['<body>Welcome to our course! It would be an awesome experience</body>', '<article>To be a data scientist, you need to have knowledge in statistics and mathematics</article>', '<nav>About me Links Contact me!']\n",
    "for string in html_tags:\n",
    "    # Complete the regex and find if it matches a closed HTML tags\n",
    "    match_tag =  re.match(r\"<(\\w+)>.*?</\\1>\", string)\n",
    " \n",
    "    if match_tag:\n",
    "        # If it matches print the first group capture\n",
    "        print(\"Your tag {} is closed\".format(match_tag.group(1))) \n",
    "    else:\n",
    "        # If it doesn't match capture only the tag \n",
    "        notmatch_tag = re.match(r\"<(\\w+)>\", string)\n",
    "        # Print the first group capture\n",
    "        print(\"Close your {} tag!\".format(notmatch_tag.group(1)))"
   ]
  },
  {
   "cell_type": "code",
   "execution_count": null,
   "id": "7bf51ab3",
   "metadata": {},
   "outputs": [],
   "source": []
  }
 ],
 "metadata": {
  "kernelspec": {
   "display_name": "Python 3 (ipykernel)",
   "language": "python",
   "name": "python3"
  },
  "language_info": {
   "codemirror_mode": {
    "name": "ipython",
    "version": 3
   },
   "file_extension": ".py",
   "mimetype": "text/x-python",
   "name": "python",
   "nbconvert_exporter": "python",
   "pygments_lexer": "ipython3",
   "version": "3.9.12"
  }
 },
 "nbformat": 4,
 "nbformat_minor": 5
}
