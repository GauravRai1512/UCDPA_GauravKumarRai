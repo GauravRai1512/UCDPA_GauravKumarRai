{
 "cells": [
  {
   "cell_type": "markdown",
   "id": "7b5f503c",
   "metadata": {},
   "source": [
    "# Step 0: Python Libraries and Dataset"
   ]
  },
  {
   "cell_type": "code",
   "execution_count": 298,
   "id": "52af1c80",
   "metadata": {},
   "outputs": [],
   "source": [
    "# First we need to load all required dependencies to load and analyze the data\n",
    "\n",
    "import numpy as np\n",
    "import pandas as pd\n",
    "import matplotlib.pyplot as plt\n",
    "import seaborn as sns"
   ]
  },
  {
   "cell_type": "code",
   "execution_count": 240,
   "id": "4bdb19b0",
   "metadata": {},
   "outputs": [],
   "source": [
    "# Now need to load data through pandas library because we would need two-dimensional labeled data structure.\n",
    "diabetes_data = pd.read_csv('diabetes.csv')"
   ]
  },
  {
   "cell_type": "markdown",
   "id": "4782d5d6",
   "metadata": {},
   "source": [
    "# Step 1: Exploratory Data Analysis"
   ]
  },
  {
   "cell_type": "code",
   "execution_count": 241,
   "id": "3eace96a",
   "metadata": {},
   "outputs": [
    {
     "data": {
      "text/html": [
       "<div>\n",
       "<style scoped>\n",
       "    .dataframe tbody tr th:only-of-type {\n",
       "        vertical-align: middle;\n",
       "    }\n",
       "\n",
       "    .dataframe tbody tr th {\n",
       "        vertical-align: top;\n",
       "    }\n",
       "\n",
       "    .dataframe thead th {\n",
       "        text-align: right;\n",
       "    }\n",
       "</style>\n",
       "<table border=\"1\" class=\"dataframe\">\n",
       "  <thead>\n",
       "    <tr style=\"text-align: right;\">\n",
       "      <th></th>\n",
       "      <th>Pregnancies</th>\n",
       "      <th>Glucose</th>\n",
       "      <th>BloodPressure</th>\n",
       "      <th>SkinThickness</th>\n",
       "      <th>Insulin</th>\n",
       "      <th>BMI</th>\n",
       "      <th>DiabetesPedigreeFunction</th>\n",
       "      <th>Age</th>\n",
       "      <th>Outcome</th>\n",
       "    </tr>\n",
       "  </thead>\n",
       "  <tbody>\n",
       "    <tr>\n",
       "      <th>0</th>\n",
       "      <td>6</td>\n",
       "      <td>148.0</td>\n",
       "      <td>72</td>\n",
       "      <td>35</td>\n",
       "      <td>0.0</td>\n",
       "      <td>33.6</td>\n",
       "      <td>0.627</td>\n",
       "      <td>50</td>\n",
       "      <td>1</td>\n",
       "    </tr>\n",
       "    <tr>\n",
       "      <th>1</th>\n",
       "      <td>1</td>\n",
       "      <td>NaN</td>\n",
       "      <td>66</td>\n",
       "      <td>29</td>\n",
       "      <td>0.0</td>\n",
       "      <td>26.6</td>\n",
       "      <td>0.351</td>\n",
       "      <td>31</td>\n",
       "      <td>0</td>\n",
       "    </tr>\n",
       "    <tr>\n",
       "      <th>2</th>\n",
       "      <td>8</td>\n",
       "      <td>183.0</td>\n",
       "      <td>64</td>\n",
       "      <td>0</td>\n",
       "      <td>0.0</td>\n",
       "      <td>23.3</td>\n",
       "      <td>0.672</td>\n",
       "      <td>32</td>\n",
       "      <td>1</td>\n",
       "    </tr>\n",
       "    <tr>\n",
       "      <th>3</th>\n",
       "      <td>1</td>\n",
       "      <td>89.0</td>\n",
       "      <td>66</td>\n",
       "      <td>23</td>\n",
       "      <td>94.0</td>\n",
       "      <td>28.1</td>\n",
       "      <td>0.167</td>\n",
       "      <td>21</td>\n",
       "      <td>0</td>\n",
       "    </tr>\n",
       "    <tr>\n",
       "      <th>4</th>\n",
       "      <td>0</td>\n",
       "      <td>137.0</td>\n",
       "      <td>40</td>\n",
       "      <td>35</td>\n",
       "      <td>168.0</td>\n",
       "      <td>43.1</td>\n",
       "      <td>2.288</td>\n",
       "      <td>33</td>\n",
       "      <td>1</td>\n",
       "    </tr>\n",
       "    <tr>\n",
       "      <th>5</th>\n",
       "      <td>5</td>\n",
       "      <td>116.0</td>\n",
       "      <td>74</td>\n",
       "      <td>0</td>\n",
       "      <td>NaN</td>\n",
       "      <td>25.6</td>\n",
       "      <td>NaN</td>\n",
       "      <td>30</td>\n",
       "      <td>0</td>\n",
       "    </tr>\n",
       "    <tr>\n",
       "      <th>6</th>\n",
       "      <td>3</td>\n",
       "      <td>78.0</td>\n",
       "      <td>50</td>\n",
       "      <td>32</td>\n",
       "      <td>88.0</td>\n",
       "      <td>31.0</td>\n",
       "      <td>0.248</td>\n",
       "      <td>26</td>\n",
       "      <td>1</td>\n",
       "    </tr>\n",
       "    <tr>\n",
       "      <th>7</th>\n",
       "      <td>10</td>\n",
       "      <td>115.0</td>\n",
       "      <td>0</td>\n",
       "      <td>0</td>\n",
       "      <td>0.0</td>\n",
       "      <td>35.3</td>\n",
       "      <td>0.134</td>\n",
       "      <td>29</td>\n",
       "      <td>0</td>\n",
       "    </tr>\n",
       "    <tr>\n",
       "      <th>8</th>\n",
       "      <td>2</td>\n",
       "      <td>197.0</td>\n",
       "      <td>70</td>\n",
       "      <td>45</td>\n",
       "      <td>543.0</td>\n",
       "      <td>30.5</td>\n",
       "      <td>0.158</td>\n",
       "      <td>53</td>\n",
       "      <td>1</td>\n",
       "    </tr>\n",
       "    <tr>\n",
       "      <th>9</th>\n",
       "      <td>8</td>\n",
       "      <td>125.0</td>\n",
       "      <td>96</td>\n",
       "      <td>0</td>\n",
       "      <td>0.0</td>\n",
       "      <td>0.0</td>\n",
       "      <td>0.232</td>\n",
       "      <td>54</td>\n",
       "      <td>1</td>\n",
       "    </tr>\n",
       "  </tbody>\n",
       "</table>\n",
       "</div>"
      ],
      "text/plain": [
       "   Pregnancies  Glucose  BloodPressure  SkinThickness  Insulin   BMI  \\\n",
       "0            6    148.0             72             35      0.0  33.6   \n",
       "1            1      NaN             66             29      0.0  26.6   \n",
       "2            8    183.0             64              0      0.0  23.3   \n",
       "3            1     89.0             66             23     94.0  28.1   \n",
       "4            0    137.0             40             35    168.0  43.1   \n",
       "5            5    116.0             74              0      NaN  25.6   \n",
       "6            3     78.0             50             32     88.0  31.0   \n",
       "7           10    115.0              0              0      0.0  35.3   \n",
       "8            2    197.0             70             45    543.0  30.5   \n",
       "9            8    125.0             96              0      0.0   0.0   \n",
       "\n",
       "   DiabetesPedigreeFunction  Age  Outcome  \n",
       "0                     0.627   50        1  \n",
       "1                     0.351   31        0  \n",
       "2                     0.672   32        1  \n",
       "3                     0.167   21        0  \n",
       "4                     2.288   33        1  \n",
       "5                       NaN   30        0  \n",
       "6                     0.248   26        1  \n",
       "7                     0.134   29        0  \n",
       "8                     0.158   53        1  \n",
       "9                     0.232   54        1  "
      ]
     },
     "execution_count": 241,
     "metadata": {},
     "output_type": "execute_result"
    }
   ],
   "source": [
    "# Need to check further details to read and understand the data with row and column details.\n",
    "# Data Understanding\n",
    "diabetes_data.head(10)"
   ]
  },
  {
   "cell_type": "code",
   "execution_count": 18,
   "id": "0f64fd67",
   "metadata": {},
   "outputs": [],
   "source": [
    "# now as per above output we can see few data is coming as NaN which we have to clean it for data analysis."
   ]
  },
  {
   "cell_type": "code",
   "execution_count": 242,
   "id": "5aa69eef",
   "metadata": {},
   "outputs": [
    {
     "data": {
      "text/plain": [
       "Pregnancies                 False\n",
       "Glucose                      True\n",
       "BloodPressure               False\n",
       "SkinThickness               False\n",
       "Insulin                      True\n",
       "BMI                         False\n",
       "DiabetesPedigreeFunction     True\n",
       "Age                         False\n",
       "Outcome                     False\n",
       "dtype: bool"
      ]
     },
     "execution_count": 242,
     "metadata": {},
     "output_type": "execute_result"
    }
   ],
   "source": [
    "# Need to identify whethere null value exist in any column or not\n",
    "# Data understanding\n",
    "diabetes_data.isnull().any()"
   ]
  },
  {
   "cell_type": "code",
   "execution_count": 243,
   "id": "6099c5cb",
   "metadata": {},
   "outputs": [
    {
     "data": {
      "text/plain": [
       "(769, 9)"
      ]
     },
     "execution_count": 243,
     "metadata": {},
     "output_type": "execute_result"
    }
   ],
   "source": [
    "# as per above output we can see clearly the occurence of null values corresponding to columns is showing True.\n",
    "# at row 1 - under column Glucose, it means null value does exist in this csv file.\n",
    "diabetes_data.shape"
   ]
  },
  {
   "cell_type": "code",
   "execution_count": 244,
   "id": "a6fec000",
   "metadata": {},
   "outputs": [
    {
     "name": "stdout",
     "output_type": "stream",
     "text": [
      "<class 'pandas.core.frame.DataFrame'>\n",
      "RangeIndex: 769 entries, 0 to 768\n",
      "Data columns (total 9 columns):\n",
      " #   Column                    Non-Null Count  Dtype  \n",
      "---  ------                    --------------  -----  \n",
      " 0   Pregnancies               769 non-null    int64  \n",
      " 1   Glucose                   766 non-null    float64\n",
      " 2   BloodPressure             769 non-null    int64  \n",
      " 3   SkinThickness             769 non-null    int64  \n",
      " 4   Insulin                   766 non-null    float64\n",
      " 5   BMI                       769 non-null    float64\n",
      " 6   DiabetesPedigreeFunction  766 non-null    float64\n",
      " 7   Age                       769 non-null    int64  \n",
      " 8   Outcome                   769 non-null    int64  \n",
      "dtypes: float64(4), int64(5)\n",
      "memory usage: 54.2 KB\n"
     ]
    }
   ],
   "source": [
    "# we can also use below query to identify whether there is any null value corresponding to column, doest exist or not.\n",
    "diabetes_data.info()"
   ]
  },
  {
   "cell_type": "code",
   "execution_count": 1,
   "id": "5cfc40e8",
   "metadata": {},
   "outputs": [],
   "source": [
    "# in above output we can see out of 768 rows glucose has 766 non-null value and 3 is null value \n",
    "\n",
    "# simmilar to Insulin & DiabetesPedigreeFunction"
   ]
  },
  {
   "cell_type": "code",
   "execution_count": 245,
   "id": "b6deda68",
   "metadata": {},
   "outputs": [
    {
     "data": {
      "text/plain": [
       "0      False\n",
       "1      False\n",
       "2      False\n",
       "3      False\n",
       "4      False\n",
       "       ...  \n",
       "764    False\n",
       "765    False\n",
       "766    False\n",
       "767    False\n",
       "768     True\n",
       "Length: 769, dtype: bool"
      ]
     },
     "execution_count": 245,
     "metadata": {},
     "output_type": "execute_result"
    }
   ],
   "source": [
    "# To check whether duplicate value does exist or not.\n",
    "diabetes_data.duplicated()"
   ]
  },
  {
   "cell_type": "code",
   "execution_count": 246,
   "id": "22f2ecf0",
   "metadata": {},
   "outputs": [
    {
     "data": {
      "text/html": [
       "<div>\n",
       "<style scoped>\n",
       "    .dataframe tbody tr th:only-of-type {\n",
       "        vertical-align: middle;\n",
       "    }\n",
       "\n",
       "    .dataframe tbody tr th {\n",
       "        vertical-align: top;\n",
       "    }\n",
       "\n",
       "    .dataframe thead th {\n",
       "        text-align: right;\n",
       "    }\n",
       "</style>\n",
       "<table border=\"1\" class=\"dataframe\">\n",
       "  <thead>\n",
       "    <tr style=\"text-align: right;\">\n",
       "      <th></th>\n",
       "      <th>Pregnancies</th>\n",
       "      <th>Glucose</th>\n",
       "      <th>BloodPressure</th>\n",
       "      <th>SkinThickness</th>\n",
       "      <th>Insulin</th>\n",
       "      <th>BMI</th>\n",
       "      <th>DiabetesPedigreeFunction</th>\n",
       "      <th>Age</th>\n",
       "      <th>Outcome</th>\n",
       "    </tr>\n",
       "  </thead>\n",
       "  <tbody>\n",
       "    <tr>\n",
       "      <th>763</th>\n",
       "      <td>10</td>\n",
       "      <td>101.0</td>\n",
       "      <td>76</td>\n",
       "      <td>48</td>\n",
       "      <td>180.0</td>\n",
       "      <td>32.9</td>\n",
       "      <td>0.171</td>\n",
       "      <td>63</td>\n",
       "      <td>0</td>\n",
       "    </tr>\n",
       "    <tr>\n",
       "      <th>768</th>\n",
       "      <td>10</td>\n",
       "      <td>101.0</td>\n",
       "      <td>76</td>\n",
       "      <td>48</td>\n",
       "      <td>180.0</td>\n",
       "      <td>32.9</td>\n",
       "      <td>0.171</td>\n",
       "      <td>63</td>\n",
       "      <td>0</td>\n",
       "    </tr>\n",
       "  </tbody>\n",
       "</table>\n",
       "</div>"
      ],
      "text/plain": [
       "     Pregnancies  Glucose  BloodPressure  SkinThickness  Insulin   BMI  \\\n",
       "763           10    101.0             76             48    180.0  32.9   \n",
       "768           10    101.0             76             48    180.0  32.9   \n",
       "\n",
       "     DiabetesPedigreeFunction  Age  Outcome  \n",
       "763                     0.171   63        0  \n",
       "768                     0.171   63        0  "
      ]
     },
     "execution_count": 246,
     "metadata": {},
     "output_type": "execute_result"
    }
   ],
   "source": [
    "# as per above its clearly visible at index 768 duplicates are there?\n",
    "# I'll not be considering all columns for duplicates rather specific column which i'm using for data analysis.\n",
    "\n",
    "column_names = ['Pregnancies','Glucose', 'Insulin','BMI','Age']\n",
    "duplicates = diabetes_data.duplicated(subset=column_names, keep = False)\n",
    "diabetes_data[duplicates]\n",
    "# here keep = false means all(false) duplicate values"
   ]
  },
  {
   "cell_type": "code",
   "execution_count": null,
   "id": "afc82bdb",
   "metadata": {},
   "outputs": [],
   "source": [
    "# Its clearly visible that duplicate values are present at row 763 & 768"
   ]
  },
  {
   "cell_type": "code",
   "execution_count": null,
   "id": "127c7beb",
   "metadata": {},
   "outputs": [],
   "source": [
    "# Now to conclude this from cleaning perspective we just have to remove the NaN value from the data set.\n",
    "# Data Cleaing processing has been started."
   ]
  },
  {
   "cell_type": "code",
   "execution_count": 247,
   "id": "e67d4235",
   "metadata": {},
   "outputs": [
    {
     "data": {
      "image/png": "[encoded data removed]",
      "text/plain": [
       "<Figure size 1440x1440 with 6 Axes>"
      ]
     },
     "metadata": {
      "needs_background": "light"
     },
     "output_type": "display_data"
    }
   ],
   "source": [
    "# Data Visualization before removing the null values\n",
    "column_names = ['Pregnancies','Glucose', 'Insulin','BMI','Age']\n",
    "p = diabetes_data.hist(column_names,figsize = (20,20))"
   ]
  },
  {
   "cell_type": "markdown",
   "id": "e59ea6cb",
   "metadata": {},
   "source": [
    "# Step 2: Data Cleaning"
   ]
  },
  {
   "cell_type": "code",
   "execution_count": 248,
   "id": "245f6087",
   "metadata": {},
   "outputs": [
    {
     "name": "stdout",
     "output_type": "stream",
     "text": [
      "     Pregnancies  Glucose  BloodPressure  SkinThickness  Insulin   BMI  \\\n",
      "0              6    148.0             72             35      0.0  33.6   \n",
      "2              8    183.0             64              0      0.0  23.3   \n",
      "3              1     89.0             66             23     94.0  28.1   \n",
      "4              0    137.0             40             35    168.0  43.1   \n",
      "6              3     78.0             50             32     88.0  31.0   \n",
      "..           ...      ...            ...            ...      ...   ...   \n",
      "764            2    122.0             70             27      0.0  36.8   \n",
      "765            5    121.0             72             23    112.0  26.2   \n",
      "766            1    126.0             60              0      0.0  30.1   \n",
      "767            1     93.0             70             31      0.0  30.4   \n",
      "768           10    101.0             76             48    180.0  32.9   \n",
      "\n",
      "     DiabetesPedigreeFunction  Age  Outcome  \n",
      "0                       0.627   50        1  \n",
      "2                       0.672   32        1  \n",
      "3                       0.167   21        0  \n",
      "4                       2.288   33        1  \n",
      "6                       0.248   26        1  \n",
      "..                        ...  ...      ...  \n",
      "764                     0.340   27        0  \n",
      "765                     0.245   30        0  \n",
      "766                     0.349   47        1  \n",
      "767                     0.315   23        0  \n",
      "768                     0.171   63        0  \n",
      "\n",
      "[765 rows x 9 columns]\n"
     ]
    },
    {
     "data": {
      "text/html": [
       "<div>\n",
       "<style scoped>\n",
       "    .dataframe tbody tr th:only-of-type {\n",
       "        vertical-align: middle;\n",
       "    }\n",
       "\n",
       "    .dataframe tbody tr th {\n",
       "        vertical-align: top;\n",
       "    }\n",
       "\n",
       "    .dataframe thead th {\n",
       "        text-align: right;\n",
       "    }\n",
       "</style>\n",
       "<table border=\"1\" class=\"dataframe\">\n",
       "  <thead>\n",
       "    <tr style=\"text-align: right;\">\n",
       "      <th></th>\n",
       "      <th>Pregnancies</th>\n",
       "      <th>Glucose</th>\n",
       "      <th>BloodPressure</th>\n",
       "      <th>SkinThickness</th>\n",
       "      <th>Insulin</th>\n",
       "      <th>BMI</th>\n",
       "      <th>DiabetesPedigreeFunction</th>\n",
       "      <th>Age</th>\n",
       "      <th>Outcome</th>\n",
       "    </tr>\n",
       "  </thead>\n",
       "  <tbody>\n",
       "    <tr>\n",
       "      <th>0</th>\n",
       "      <td>6</td>\n",
       "      <td>148.0</td>\n",
       "      <td>72</td>\n",
       "      <td>35</td>\n",
       "      <td>0.0</td>\n",
       "      <td>33.6</td>\n",
       "      <td>0.627</td>\n",
       "      <td>50</td>\n",
       "      <td>1</td>\n",
       "    </tr>\n",
       "    <tr>\n",
       "      <th>2</th>\n",
       "      <td>8</td>\n",
       "      <td>183.0</td>\n",
       "      <td>64</td>\n",
       "      <td>0</td>\n",
       "      <td>0.0</td>\n",
       "      <td>23.3</td>\n",
       "      <td>0.672</td>\n",
       "      <td>32</td>\n",
       "      <td>1</td>\n",
       "    </tr>\n",
       "    <tr>\n",
       "      <th>3</th>\n",
       "      <td>1</td>\n",
       "      <td>89.0</td>\n",
       "      <td>66</td>\n",
       "      <td>23</td>\n",
       "      <td>94.0</td>\n",
       "      <td>28.1</td>\n",
       "      <td>0.167</td>\n",
       "      <td>21</td>\n",
       "      <td>0</td>\n",
       "    </tr>\n",
       "    <tr>\n",
       "      <th>4</th>\n",
       "      <td>0</td>\n",
       "      <td>137.0</td>\n",
       "      <td>40</td>\n",
       "      <td>35</td>\n",
       "      <td>168.0</td>\n",
       "      <td>43.1</td>\n",
       "      <td>2.288</td>\n",
       "      <td>33</td>\n",
       "      <td>1</td>\n",
       "    </tr>\n",
       "    <tr>\n",
       "      <th>6</th>\n",
       "      <td>3</td>\n",
       "      <td>78.0</td>\n",
       "      <td>50</td>\n",
       "      <td>32</td>\n",
       "      <td>88.0</td>\n",
       "      <td>31.0</td>\n",
       "      <td>0.248</td>\n",
       "      <td>26</td>\n",
       "      <td>1</td>\n",
       "    </tr>\n",
       "    <tr>\n",
       "      <th>7</th>\n",
       "      <td>10</td>\n",
       "      <td>115.0</td>\n",
       "      <td>0</td>\n",
       "      <td>0</td>\n",
       "      <td>0.0</td>\n",
       "      <td>35.3</td>\n",
       "      <td>0.134</td>\n",
       "      <td>29</td>\n",
       "      <td>0</td>\n",
       "    </tr>\n",
       "    <tr>\n",
       "      <th>8</th>\n",
       "      <td>2</td>\n",
       "      <td>197.0</td>\n",
       "      <td>70</td>\n",
       "      <td>45</td>\n",
       "      <td>543.0</td>\n",
       "      <td>30.5</td>\n",
       "      <td>0.158</td>\n",
       "      <td>53</td>\n",
       "      <td>1</td>\n",
       "    </tr>\n",
       "    <tr>\n",
       "      <th>9</th>\n",
       "      <td>8</td>\n",
       "      <td>125.0</td>\n",
       "      <td>96</td>\n",
       "      <td>0</td>\n",
       "      <td>0.0</td>\n",
       "      <td>0.0</td>\n",
       "      <td>0.232</td>\n",
       "      <td>54</td>\n",
       "      <td>1</td>\n",
       "    </tr>\n",
       "    <tr>\n",
       "      <th>10</th>\n",
       "      <td>4</td>\n",
       "      <td>110.0</td>\n",
       "      <td>92</td>\n",
       "      <td>0</td>\n",
       "      <td>0.0</td>\n",
       "      <td>37.6</td>\n",
       "      <td>0.191</td>\n",
       "      <td>30</td>\n",
       "      <td>0</td>\n",
       "    </tr>\n",
       "    <tr>\n",
       "      <th>11</th>\n",
       "      <td>10</td>\n",
       "      <td>168.0</td>\n",
       "      <td>74</td>\n",
       "      <td>0</td>\n",
       "      <td>0.0</td>\n",
       "      <td>38.0</td>\n",
       "      <td>0.537</td>\n",
       "      <td>34</td>\n",
       "      <td>1</td>\n",
       "    </tr>\n",
       "    <tr>\n",
       "      <th>12</th>\n",
       "      <td>10</td>\n",
       "      <td>139.0</td>\n",
       "      <td>80</td>\n",
       "      <td>0</td>\n",
       "      <td>0.0</td>\n",
       "      <td>27.1</td>\n",
       "      <td>1.441</td>\n",
       "      <td>57</td>\n",
       "      <td>0</td>\n",
       "    </tr>\n",
       "    <tr>\n",
       "      <th>13</th>\n",
       "      <td>1</td>\n",
       "      <td>189.0</td>\n",
       "      <td>60</td>\n",
       "      <td>23</td>\n",
       "      <td>846.0</td>\n",
       "      <td>30.1</td>\n",
       "      <td>0.398</td>\n",
       "      <td>59</td>\n",
       "      <td>1</td>\n",
       "    </tr>\n",
       "    <tr>\n",
       "      <th>14</th>\n",
       "      <td>5</td>\n",
       "      <td>166.0</td>\n",
       "      <td>72</td>\n",
       "      <td>19</td>\n",
       "      <td>175.0</td>\n",
       "      <td>25.8</td>\n",
       "      <td>0.587</td>\n",
       "      <td>51</td>\n",
       "      <td>1</td>\n",
       "    </tr>\n",
       "    <tr>\n",
       "      <th>15</th>\n",
       "      <td>7</td>\n",
       "      <td>100.0</td>\n",
       "      <td>0</td>\n",
       "      <td>0</td>\n",
       "      <td>0.0</td>\n",
       "      <td>30.0</td>\n",
       "      <td>0.484</td>\n",
       "      <td>32</td>\n",
       "      <td>1</td>\n",
       "    </tr>\n",
       "    <tr>\n",
       "      <th>16</th>\n",
       "      <td>0</td>\n",
       "      <td>118.0</td>\n",
       "      <td>84</td>\n",
       "      <td>47</td>\n",
       "      <td>230.0</td>\n",
       "      <td>45.8</td>\n",
       "      <td>0.551</td>\n",
       "      <td>31</td>\n",
       "      <td>1</td>\n",
       "    </tr>\n",
       "    <tr>\n",
       "      <th>17</th>\n",
       "      <td>7</td>\n",
       "      <td>107.0</td>\n",
       "      <td>74</td>\n",
       "      <td>0</td>\n",
       "      <td>0.0</td>\n",
       "      <td>29.6</td>\n",
       "      <td>0.254</td>\n",
       "      <td>31</td>\n",
       "      <td>1</td>\n",
       "    </tr>\n",
       "    <tr>\n",
       "      <th>19</th>\n",
       "      <td>1</td>\n",
       "      <td>115.0</td>\n",
       "      <td>70</td>\n",
       "      <td>30</td>\n",
       "      <td>96.0</td>\n",
       "      <td>34.6</td>\n",
       "      <td>0.529</td>\n",
       "      <td>32</td>\n",
       "      <td>1</td>\n",
       "    </tr>\n",
       "    <tr>\n",
       "      <th>20</th>\n",
       "      <td>3</td>\n",
       "      <td>126.0</td>\n",
       "      <td>88</td>\n",
       "      <td>41</td>\n",
       "      <td>235.0</td>\n",
       "      <td>39.3</td>\n",
       "      <td>0.704</td>\n",
       "      <td>27</td>\n",
       "      <td>0</td>\n",
       "    </tr>\n",
       "    <tr>\n",
       "      <th>22</th>\n",
       "      <td>7</td>\n",
       "      <td>196.0</td>\n",
       "      <td>90</td>\n",
       "      <td>0</td>\n",
       "      <td>0.0</td>\n",
       "      <td>39.8</td>\n",
       "      <td>0.451</td>\n",
       "      <td>41</td>\n",
       "      <td>1</td>\n",
       "    </tr>\n",
       "    <tr>\n",
       "      <th>23</th>\n",
       "      <td>9</td>\n",
       "      <td>119.0</td>\n",
       "      <td>80</td>\n",
       "      <td>35</td>\n",
       "      <td>0.0</td>\n",
       "      <td>29.0</td>\n",
       "      <td>0.263</td>\n",
       "      <td>29</td>\n",
       "      <td>1</td>\n",
       "    </tr>\n",
       "    <tr>\n",
       "      <th>24</th>\n",
       "      <td>11</td>\n",
       "      <td>143.0</td>\n",
       "      <td>94</td>\n",
       "      <td>33</td>\n",
       "      <td>146.0</td>\n",
       "      <td>36.6</td>\n",
       "      <td>0.254</td>\n",
       "      <td>51</td>\n",
       "      <td>1</td>\n",
       "    </tr>\n",
       "    <tr>\n",
       "      <th>25</th>\n",
       "      <td>10</td>\n",
       "      <td>125.0</td>\n",
       "      <td>70</td>\n",
       "      <td>26</td>\n",
       "      <td>115.0</td>\n",
       "      <td>31.1</td>\n",
       "      <td>0.205</td>\n",
       "      <td>41</td>\n",
       "      <td>1</td>\n",
       "    </tr>\n",
       "    <tr>\n",
       "      <th>26</th>\n",
       "      <td>7</td>\n",
       "      <td>147.0</td>\n",
       "      <td>76</td>\n",
       "      <td>0</td>\n",
       "      <td>0.0</td>\n",
       "      <td>39.4</td>\n",
       "      <td>0.257</td>\n",
       "      <td>43</td>\n",
       "      <td>1</td>\n",
       "    </tr>\n",
       "    <tr>\n",
       "      <th>27</th>\n",
       "      <td>1</td>\n",
       "      <td>97.0</td>\n",
       "      <td>66</td>\n",
       "      <td>15</td>\n",
       "      <td>140.0</td>\n",
       "      <td>23.2</td>\n",
       "      <td>0.487</td>\n",
       "      <td>22</td>\n",
       "      <td>0</td>\n",
       "    </tr>\n",
       "    <tr>\n",
       "      <th>28</th>\n",
       "      <td>13</td>\n",
       "      <td>145.0</td>\n",
       "      <td>82</td>\n",
       "      <td>19</td>\n",
       "      <td>110.0</td>\n",
       "      <td>22.2</td>\n",
       "      <td>0.245</td>\n",
       "      <td>57</td>\n",
       "      <td>0</td>\n",
       "    </tr>\n",
       "    <tr>\n",
       "      <th>29</th>\n",
       "      <td>5</td>\n",
       "      <td>117.0</td>\n",
       "      <td>92</td>\n",
       "      <td>0</td>\n",
       "      <td>0.0</td>\n",
       "      <td>34.1</td>\n",
       "      <td>0.337</td>\n",
       "      <td>38</td>\n",
       "      <td>0</td>\n",
       "    </tr>\n",
       "    <tr>\n",
       "      <th>30</th>\n",
       "      <td>5</td>\n",
       "      <td>109.0</td>\n",
       "      <td>75</td>\n",
       "      <td>26</td>\n",
       "      <td>0.0</td>\n",
       "      <td>36.0</td>\n",
       "      <td>0.546</td>\n",
       "      <td>60</td>\n",
       "      <td>0</td>\n",
       "    </tr>\n",
       "    <tr>\n",
       "      <th>31</th>\n",
       "      <td>3</td>\n",
       "      <td>158.0</td>\n",
       "      <td>76</td>\n",
       "      <td>36</td>\n",
       "      <td>245.0</td>\n",
       "      <td>31.6</td>\n",
       "      <td>0.851</td>\n",
       "      <td>28</td>\n",
       "      <td>1</td>\n",
       "    </tr>\n",
       "    <tr>\n",
       "      <th>32</th>\n",
       "      <td>3</td>\n",
       "      <td>88.0</td>\n",
       "      <td>58</td>\n",
       "      <td>11</td>\n",
       "      <td>54.0</td>\n",
       "      <td>24.8</td>\n",
       "      <td>0.267</td>\n",
       "      <td>22</td>\n",
       "      <td>0</td>\n",
       "    </tr>\n",
       "    <tr>\n",
       "      <th>33</th>\n",
       "      <td>6</td>\n",
       "      <td>92.0</td>\n",
       "      <td>92</td>\n",
       "      <td>0</td>\n",
       "      <td>0.0</td>\n",
       "      <td>19.9</td>\n",
       "      <td>0.188</td>\n",
       "      <td>28</td>\n",
       "      <td>0</td>\n",
       "    </tr>\n",
       "  </tbody>\n",
       "</table>\n",
       "</div>"
      ],
      "text/plain": [
       "    Pregnancies  Glucose  BloodPressure  SkinThickness  Insulin   BMI  \\\n",
       "0             6    148.0             72             35      0.0  33.6   \n",
       "2             8    183.0             64              0      0.0  23.3   \n",
       "3             1     89.0             66             23     94.0  28.1   \n",
       "4             0    137.0             40             35    168.0  43.1   \n",
       "6             3     78.0             50             32     88.0  31.0   \n",
       "7            10    115.0              0              0      0.0  35.3   \n",
       "8             2    197.0             70             45    543.0  30.5   \n",
       "9             8    125.0             96              0      0.0   0.0   \n",
       "10            4    110.0             92              0      0.0  37.6   \n",
       "11           10    168.0             74              0      0.0  38.0   \n",
       "12           10    139.0             80              0      0.0  27.1   \n",
       "13            1    189.0             60             23    846.0  30.1   \n",
       "14            5    166.0             72             19    175.0  25.8   \n",
       "15            7    100.0              0              0      0.0  30.0   \n",
       "16            0    118.0             84             47    230.0  45.8   \n",
       "17            7    107.0             74              0      0.0  29.6   \n",
       "19            1    115.0             70             30     96.0  34.6   \n",
       "20            3    126.0             88             41    235.0  39.3   \n",
       "22            7    196.0             90              0      0.0  39.8   \n",
       "23            9    119.0             80             35      0.0  29.0   \n",
       "24           11    143.0             94             33    146.0  36.6   \n",
       "25           10    125.0             70             26    115.0  31.1   \n",
       "26            7    147.0             76              0      0.0  39.4   \n",
       "27            1     97.0             66             15    140.0  23.2   \n",
       "28           13    145.0             82             19    110.0  22.2   \n",
       "29            5    117.0             92              0      0.0  34.1   \n",
       "30            5    109.0             75             26      0.0  36.0   \n",
       "31            3    158.0             76             36    245.0  31.6   \n",
       "32            3     88.0             58             11     54.0  24.8   \n",
       "33            6     92.0             92              0      0.0  19.9   \n",
       "\n",
       "    DiabetesPedigreeFunction  Age  Outcome  \n",
       "0                      0.627   50        1  \n",
       "2                      0.672   32        1  \n",
       "3                      0.167   21        0  \n",
       "4                      2.288   33        1  \n",
       "6                      0.248   26        1  \n",
       "7                      0.134   29        0  \n",
       "8                      0.158   53        1  \n",
       "9                      0.232   54        1  \n",
       "10                     0.191   30        0  \n",
       "11                     0.537   34        1  \n",
       "12                     1.441   57        0  \n",
       "13                     0.398   59        1  \n",
       "14                     0.587   51        1  \n",
       "15                     0.484   32        1  \n",
       "16                     0.551   31        1  \n",
       "17                     0.254   31        1  \n",
       "19                     0.529   32        1  \n",
       "20                     0.704   27        0  \n",
       "22                     0.451   41        1  \n",
       "23                     0.263   29        1  \n",
       "24                     0.254   51        1  \n",
       "25                     0.205   41        1  \n",
       "26                     0.257   43        1  \n",
       "27                     0.487   22        0  \n",
       "28                     0.245   57        0  \n",
       "29                     0.337   38        0  \n",
       "30                     0.546   60        0  \n",
       "31                     0.851   28        1  \n",
       "32                     0.267   22        0  \n",
       "33                     0.188   28        0  "
      ]
     },
     "execution_count": 248,
     "metadata": {},
     "output_type": "execute_result"
    }
   ],
   "source": [
    "# Data Cleaning \n",
    "\n",
    "# First I'm cleaning NaN values, there are many ways but considering NaN value is very less so by dropping NaN value will\n",
    "# not impact the data set as its less than 10% of total dataset\n",
    "diabetes_data = diabetes_data.dropna(axis=0)\n",
    "print(diabetes_data)\n",
    "diabetes_data.head(30)\n",
    "\n",
    "# considering only axis =0 as its dropping only 4 rows so total we would have 765.\n",
    "\n",
    "# axis = 1 will drop 3 column and that's not recommended as most of the data will get lost.\n"
   ]
  },
  {
   "cell_type": "code",
   "execution_count": 249,
   "id": "63b755cf",
   "metadata": {},
   "outputs": [
    {
     "name": "stdout",
     "output_type": "stream",
     "text": [
      "     Pregnancies  Glucose  BloodPressure  SkinThickness  Insulin   BMI  \\\n",
      "0              6    148.0             72             35      0.0  33.6   \n",
      "2              8    183.0             64              0      0.0  23.3   \n",
      "3              1     89.0             66             23     94.0  28.1   \n",
      "4              0    137.0             40             35    168.0  43.1   \n",
      "6              3     78.0             50             32     88.0  31.0   \n",
      "..           ...      ...            ...            ...      ...   ...   \n",
      "763           10    101.0             76             48    180.0  32.9   \n",
      "764            2    122.0             70             27      0.0  36.8   \n",
      "765            5    121.0             72             23    112.0  26.2   \n",
      "766            1    126.0             60              0      0.0  30.1   \n",
      "767            1     93.0             70             31      0.0  30.4   \n",
      "\n",
      "     DiabetesPedigreeFunction  Age  Outcome  \n",
      "0                       0.627   50        1  \n",
      "2                       0.672   32        1  \n",
      "3                       0.167   21        0  \n",
      "4                       2.288   33        1  \n",
      "6                       0.248   26        1  \n",
      "..                        ...  ...      ...  \n",
      "763                     0.171   63        0  \n",
      "764                     0.340   27        0  \n",
      "765                     0.245   30        0  \n",
      "766                     0.349   47        1  \n",
      "767                     0.315   23        0  \n",
      "\n",
      "[764 rows x 9 columns]\n"
     ]
    }
   ],
   "source": [
    "# Secondly now need to remove duplicates as well.\n",
    "column_names = ['Pregnancies','Glucose', 'Insulin','BMI','Age']\n",
    "diabetes_data = diabetes_data.drop_duplicates(subset=column_names)\n",
    "print(diabetes_data)"
   ]
  },
  {
   "cell_type": "code",
   "execution_count": 250,
   "id": "5d7e1cb6",
   "metadata": {},
   "outputs": [
    {
     "data": {
      "text/plain": [
       "(764, 9)"
      ]
     },
     "execution_count": 250,
     "metadata": {},
     "output_type": "execute_result"
    }
   ],
   "source": [
    "diabetes_data.shape\n",
    "# Now finally after cleaning all data, we have total 764 rows and 9 columns"
   ]
  },
  {
   "cell_type": "code",
   "execution_count": 251,
   "id": "b8bebf05",
   "metadata": {},
   "outputs": [
    {
     "data": {
      "text/plain": [
       "Pregnancies                 111\n",
       "Glucose                       5\n",
       "BloodPressure                 0\n",
       "SkinThickness                 0\n",
       "Insulin                     371\n",
       "BMI                          11\n",
       "DiabetesPedigreeFunction      0\n",
       "Age                           0\n",
       "Outcome                       0\n",
       "dtype: int64"
      ]
     },
     "execution_count": 251,
     "metadata": {},
     "output_type": "execute_result"
    }
   ],
   "source": [
    "# Also we can see a lot of zero values which we need to replace with NaN first.\n",
    "\n",
    "diabetes_data[[\"Pregnancies\", \"Glucose\",\"Insulin\",\"BMI\",\"Age\"]] = diabetes_data[[\"Pregnancies\", \"Glucose\",\"Insulin\",\"BMI\",\"Age\"]].replace(0,np.NaN)\n",
    "\n",
    "diabetes_data.isnull().sum()"
   ]
  },
  {
   "cell_type": "code",
   "execution_count": 252,
   "id": "dc5533ce",
   "metadata": {},
   "outputs": [
    {
     "data": {
      "text/html": [
       "<div>\n",
       "<style scoped>\n",
       "    .dataframe tbody tr th:only-of-type {\n",
       "        vertical-align: middle;\n",
       "    }\n",
       "\n",
       "    .dataframe tbody tr th {\n",
       "        vertical-align: top;\n",
       "    }\n",
       "\n",
       "    .dataframe thead th {\n",
       "        text-align: right;\n",
       "    }\n",
       "</style>\n",
       "<table border=\"1\" class=\"dataframe\">\n",
       "  <thead>\n",
       "    <tr style=\"text-align: right;\">\n",
       "      <th></th>\n",
       "      <th>Pregnancies</th>\n",
       "      <th>Glucose</th>\n",
       "      <th>BloodPressure</th>\n",
       "      <th>SkinThickness</th>\n",
       "      <th>Insulin</th>\n",
       "      <th>BMI</th>\n",
       "      <th>DiabetesPedigreeFunction</th>\n",
       "      <th>Age</th>\n",
       "      <th>Outcome</th>\n",
       "    </tr>\n",
       "  </thead>\n",
       "  <tbody>\n",
       "    <tr>\n",
       "      <th>0</th>\n",
       "      <td>6.000000</td>\n",
       "      <td>148.0</td>\n",
       "      <td>72</td>\n",
       "      <td>35</td>\n",
       "      <td>155.732824</td>\n",
       "      <td>33.600000</td>\n",
       "      <td>0.627</td>\n",
       "      <td>50</td>\n",
       "      <td>1</td>\n",
       "    </tr>\n",
       "    <tr>\n",
       "      <th>2</th>\n",
       "      <td>8.000000</td>\n",
       "      <td>183.0</td>\n",
       "      <td>64</td>\n",
       "      <td>0</td>\n",
       "      <td>155.732824</td>\n",
       "      <td>23.300000</td>\n",
       "      <td>0.672</td>\n",
       "      <td>32</td>\n",
       "      <td>1</td>\n",
       "    </tr>\n",
       "    <tr>\n",
       "      <th>3</th>\n",
       "      <td>1.000000</td>\n",
       "      <td>89.0</td>\n",
       "      <td>66</td>\n",
       "      <td>23</td>\n",
       "      <td>94.000000</td>\n",
       "      <td>28.100000</td>\n",
       "      <td>0.167</td>\n",
       "      <td>21</td>\n",
       "      <td>0</td>\n",
       "    </tr>\n",
       "    <tr>\n",
       "      <th>4</th>\n",
       "      <td>4.499234</td>\n",
       "      <td>137.0</td>\n",
       "      <td>40</td>\n",
       "      <td>35</td>\n",
       "      <td>168.000000</td>\n",
       "      <td>43.100000</td>\n",
       "      <td>2.288</td>\n",
       "      <td>33</td>\n",
       "      <td>1</td>\n",
       "    </tr>\n",
       "    <tr>\n",
       "      <th>6</th>\n",
       "      <td>3.000000</td>\n",
       "      <td>78.0</td>\n",
       "      <td>50</td>\n",
       "      <td>32</td>\n",
       "      <td>88.000000</td>\n",
       "      <td>31.000000</td>\n",
       "      <td>0.248</td>\n",
       "      <td>26</td>\n",
       "      <td>1</td>\n",
       "    </tr>\n",
       "    <tr>\n",
       "      <th>7</th>\n",
       "      <td>10.000000</td>\n",
       "      <td>115.0</td>\n",
       "      <td>0</td>\n",
       "      <td>0</td>\n",
       "      <td>155.732824</td>\n",
       "      <td>35.300000</td>\n",
       "      <td>0.134</td>\n",
       "      <td>29</td>\n",
       "      <td>0</td>\n",
       "    </tr>\n",
       "    <tr>\n",
       "      <th>8</th>\n",
       "      <td>2.000000</td>\n",
       "      <td>197.0</td>\n",
       "      <td>70</td>\n",
       "      <td>45</td>\n",
       "      <td>543.000000</td>\n",
       "      <td>30.500000</td>\n",
       "      <td>0.158</td>\n",
       "      <td>53</td>\n",
       "      <td>1</td>\n",
       "    </tr>\n",
       "    <tr>\n",
       "      <th>9</th>\n",
       "      <td>8.000000</td>\n",
       "      <td>125.0</td>\n",
       "      <td>96</td>\n",
       "      <td>0</td>\n",
       "      <td>155.732824</td>\n",
       "      <td>32.456042</td>\n",
       "      <td>0.232</td>\n",
       "      <td>54</td>\n",
       "      <td>1</td>\n",
       "    </tr>\n",
       "    <tr>\n",
       "      <th>10</th>\n",
       "      <td>4.000000</td>\n",
       "      <td>110.0</td>\n",
       "      <td>92</td>\n",
       "      <td>0</td>\n",
       "      <td>155.732824</td>\n",
       "      <td>37.600000</td>\n",
       "      <td>0.191</td>\n",
       "      <td>30</td>\n",
       "      <td>0</td>\n",
       "    </tr>\n",
       "    <tr>\n",
       "      <th>11</th>\n",
       "      <td>10.000000</td>\n",
       "      <td>168.0</td>\n",
       "      <td>74</td>\n",
       "      <td>0</td>\n",
       "      <td>155.732824</td>\n",
       "      <td>38.000000</td>\n",
       "      <td>0.537</td>\n",
       "      <td>34</td>\n",
       "      <td>1</td>\n",
       "    </tr>\n",
       "  </tbody>\n",
       "</table>\n",
       "</div>"
      ],
      "text/plain": [
       "    Pregnancies  Glucose  BloodPressure  SkinThickness     Insulin        BMI  \\\n",
       "0      6.000000    148.0             72             35  155.732824  33.600000   \n",
       "2      8.000000    183.0             64              0  155.732824  23.300000   \n",
       "3      1.000000     89.0             66             23   94.000000  28.100000   \n",
       "4      4.499234    137.0             40             35  168.000000  43.100000   \n",
       "6      3.000000     78.0             50             32   88.000000  31.000000   \n",
       "7     10.000000    115.0              0              0  155.732824  35.300000   \n",
       "8      2.000000    197.0             70             45  543.000000  30.500000   \n",
       "9      8.000000    125.0             96              0  155.732824  32.456042   \n",
       "10     4.000000    110.0             92              0  155.732824  37.600000   \n",
       "11    10.000000    168.0             74              0  155.732824  38.000000   \n",
       "\n",
       "    DiabetesPedigreeFunction  Age  Outcome  \n",
       "0                      0.627   50        1  \n",
       "2                      0.672   32        1  \n",
       "3                      0.167   21        0  \n",
       "4                      2.288   33        1  \n",
       "6                      0.248   26        1  \n",
       "7                      0.134   29        0  \n",
       "8                      0.158   53        1  \n",
       "9                      0.232   54        1  \n",
       "10                     0.191   30        0  \n",
       "11                     0.537   34        1  "
      ]
     },
     "execution_count": 252,
     "metadata": {},
     "output_type": "execute_result"
    }
   ],
   "source": [
    "# Now replacing NaN with mean data as after converting zero to NaN, this value has become huge so dropping row\n",
    "# would not suffice.\n",
    "\n",
    "# we are not using all columns for data analysis so we are not cleaning data for all columns.\n",
    "\n",
    "diabetes_data[\"Pregnancies\"].fillna(diabetes_data[\"Pregnancies\"].mean(), inplace = True)\n",
    "diabetes_data[\"Glucose\"].fillna(diabetes_data[\"Glucose\"].mean(), inplace = True)\n",
    "diabetes_data[\"Insulin\"].fillna(diabetes_data[\"Insulin\"].mean(), inplace = True)\n",
    "diabetes_data[\"BMI\"].fillna(diabetes_data[\"BMI\"].mean(), inplace = True)\n",
    "diabetes_data[\"Age\"].fillna(diabetes_data[\"Age\"].mean(), inplace = True)\n",
    "\n",
    "diabetes_data.head(10)"
   ]
  },
  {
   "cell_type": "markdown",
   "id": "00189456",
   "metadata": {},
   "source": [
    "# Step 3: Data Visualization"
   ]
  },
  {
   "cell_type": "code",
   "execution_count": 253,
   "id": "af5c66ab",
   "metadata": {
    "scrolled": true
   },
   "outputs": [
    {
     "data": {
      "image/png": "[encoded data removed]",
      "text/plain": [
       "<Figure size 1440x1440 with 6 Axes>"
      ]
     },
     "metadata": {
      "needs_background": "light"
     },
     "output_type": "display_data"
    }
   ],
   "source": [
    "diabetes_data\n",
    "# Data Visualization after removing the null values\n",
    "column_names = ['Pregnancies','Glucose', 'Insulin','BMI','Age']\n",
    "p = diabetes_data.hist(column_names,figsize = (20,20))"
   ]
  },
  {
   "cell_type": "code",
   "execution_count": null,
   "id": "9c0daa0b",
   "metadata": {},
   "outputs": [],
   "source": [
    "# Conclusion : So here we have seen the distribution of each features and why do we need this? simple answer would be to start\n",
    "# the analysis of the dataset as it shows the occurence of every kind of value in the graphical structure which help us to know the\n",
    "# range of data\n",
    "\n",
    "# After analysis of this hist plot before and after cleaning of data we can clearly say we are using this visualization\n",
    "# to see the changes that we can see after those 0 converted to NaN values are removed from the dataset and we can clearly see\n",
    "# the difference in BMI & Insulin etc..."
   ]
  },
  {
   "cell_type": "code",
   "execution_count": 274,
   "id": "ea28edd0",
   "metadata": {},
   "outputs": [
    {
     "name": "stdout",
     "output_type": "stream",
     "text": [
      "(764,) (764,)\n",
      "(764, 1)\n"
     ]
    },
    {
     "data": {
      "image/png": "[encoded data removed]",
      "text/plain": [
       "<Figure size 432x288 with 1 Axes>"
      ]
     },
     "metadata": {
      "needs_background": "light"
     },
     "output_type": "display_data"
    }
   ],
   "source": [
    "# Lets analyze some data and little bit comparison in between the values.\n",
    "\n",
    "feature = diabetes_data.drop('Glucose', axis=1)\n",
    "y_outcome = diabetes_data['Glucose'].values\n",
    "X_bmi = feature.iloc[:, 4].values\n",
    "print (y_outcome.shape, X_bmi.shape)\n",
    "\n",
    "X_bmi = X_bmi.reshape(-1, 1)\n",
    "print(X_bmi.shape)\n",
    "\n",
    "plt.scatter(X_bmi, y_outcome)\n",
    "plt.ylabel(\"Glucose\")\n",
    "plt.xlabel(\"BMI\")\n",
    "plt.show()\n"
   ]
  },
  {
   "cell_type": "code",
   "execution_count": null,
   "id": "2ac5f9fa",
   "metadata": {},
   "outputs": [],
   "source": [
    "# With this visualization we can clearly say that as BMI increases Glocuose level is also tend to increase."
   ]
  },
  {
   "cell_type": "markdown",
   "id": "36fa8c92",
   "metadata": {},
   "source": [
    "# Step 4: Data Modelling"
   ]
  },
  {
   "cell_type": "code",
   "execution_count": 359,
   "id": "b343b401",
   "metadata": {},
   "outputs": [],
   "source": [
    "from sklearn.neighbors import KNeighborsClassifier \n",
    "from sklearn.model_selection import train_test_split\n",
    "from sklearn.linear_model import LinearRegression\n",
    "from sklearn.metrics import mean_squared_error\n",
    "from sklearn.metrics import confusion_matrix, classification_report\n",
    "from sklearn.svm import SVC\n",
    "from sklearn.metrics import accuracy_score\n",
    "from sklearn.linear_model import LogisticRegression"
   ]
  },
  {
   "cell_type": "code",
   "execution_count": 256,
   "id": "36422fcc",
   "metadata": {},
   "outputs": [
    {
     "name": "stdout",
     "output_type": "stream",
     "text": [
      "     Pregnancies  Glucose     Insulin   BMI  Age\n",
      "0       6.000000    148.0  155.732824  33.6   50\n",
      "2       8.000000    183.0  155.732824  23.3   32\n",
      "3       1.000000     89.0   94.000000  28.1   21\n",
      "4       4.499234    137.0  168.000000  43.1   33\n",
      "6       3.000000     78.0   88.000000  31.0   26\n",
      "..           ...      ...         ...   ...  ...\n",
      "763    10.000000    101.0  180.000000  32.9   63\n",
      "764     2.000000    122.0  155.732824  36.8   27\n",
      "765     5.000000    121.0  112.000000  26.2   30\n",
      "766     1.000000    126.0  155.732824  30.1   47\n",
      "767     1.000000     93.0  155.732824  30.4   23\n",
      "\n",
      "[764 rows x 5 columns]\n",
      "(764,)\n"
     ]
    }
   ],
   "source": [
    "# Declare feature and target variable\n",
    "X = diabetes_data.drop(['Outcome','BloodPressure','SkinThickness','DiabetesPedigreeFunction'],axis=1)\n",
    "y = diabetes_data['Outcome']\n",
    "print(X)\n",
    "print(y.shape)"
   ]
  },
  {
   "cell_type": "markdown",
   "id": "a05174d2",
   "metadata": {},
   "source": [
    "# K-NN Supervised Learning"
   ]
  },
  {
   "cell_type": "code",
   "execution_count": 374,
   "id": "2732212d",
   "metadata": {},
   "outputs": [
    {
     "name": "stdout",
     "output_type": "stream",
     "text": [
      "0.7869565217391304\n"
     ]
    }
   ],
   "source": [
    "# Now Data Modeling will get started\n",
    "# KNN or K-NN Supervised learning will get into the picture.\n",
    "# sklearn model performance\n",
    "X_train, X_test, y_train, y_test =  train_test_split(X, y, test_size=0.3, random_state=21, stratify=y)\n",
    "knn = KNeighborsClassifier(n_neighbors=7)\n",
    "knn.fit(X_train, y_train)\n",
    "print(knn.score(X_test, y_test))"
   ]
  },
  {
   "cell_type": "code",
   "execution_count": 261,
   "id": "b88ca42b",
   "metadata": {},
   "outputs": [
    {
     "name": "stdout",
     "output_type": "stream",
     "text": [
      "Accuracy: 78.69565217391305\n"
     ]
    }
   ],
   "source": [
    "y_pred = knn.predict(X_test)\n",
    "accuracy = accuracy_score(y_test, y_pred)\n",
    "print(\"Accuracy: \" + str(accuracy * 100))"
   ]
  },
  {
   "cell_type": "code",
   "execution_count": 262,
   "id": "23e2d3b7",
   "metadata": {},
   "outputs": [
    {
     "name": "stdout",
     "output_type": "stream",
     "text": [
      "{1: 0.6826086956521739, 2: 0.7043478260869566, 3: 0.7391304347826086, 4: 0.7478260869565218, 5: 0.7434782608695653, 6: 0.7608695652173914, 7: 0.7869565217391304, 8: 0.7782608695652173, 9: 0.7695652173913043, 10: 0.7739130434782608, 11: 0.782608695652174, 12: 0.782608695652174, 13: 0.7739130434782608, 14: 0.7695652173913043, 15: 0.7652173913043478, 16: 0.7652173913043478, 17: 0.7391304347826086, 18: 0.7521739130434782, 19: 0.7478260869565218, 20: 0.7434782608695653, 21: 0.7391304347826086, 22: 0.7521739130434782, 23: 0.7478260869565218, 24: 0.7478260869565218, 25: 0.7521739130434782}\n"
     ]
    }
   ],
   "source": [
    "# Model complexity and over/underfitting\n",
    "\n",
    "# here we are trying to feed different neighbor value just to check the model predictions and \n",
    "\n",
    "train_accuracies = {}\n",
    "test_accuracies = {}\n",
    "neighbors = np.arange(1,26)\n",
    "for neighbor in neighbors:\n",
    "    knn = KNeighborsClassifier(n_neighbors=neighbor)\n",
    "    knn.fit(X_train, y_train)\n",
    "    train_accuracies[neighbor] = knn.score(X_train, y_train)\n",
    "    test_accuracies[neighbor] = knn.score(X_test, y_test)\n",
    "\n",
    "print(test_accuracies)\n",
    "\n",
    "# n_neighbors 7 has max accuracy\n"
   ]
  },
  {
   "cell_type": "code",
   "execution_count": 263,
   "id": "1752235e",
   "metadata": {},
   "outputs": [
    {
     "data": {
      "image/png": "[encoded data removed]",
      "text/plain": [
       "<Figure size 576x432 with 1 Axes>"
      ]
     },
     "metadata": {
      "needs_background": "light"
     },
     "output_type": "display_data"
    }
   ],
   "source": [
    "# plotting the result and showing the accuracy of model with different Neighbors\n",
    "plt.figure(figsize=(8,6))\n",
    "plt.title(\"KNN: Varying number of Neighbors\")\n",
    "plt.plot(neighbors, train_accuracies.values(), label=\"Training Accuracy\")\n",
    "plt.plot(neighbors, test_accuracies.values(), label=\"Testing Accuracy\")\n",
    "plt.legend()\n",
    "plt.xlabel(\"Number of Neighbors\")\n",
    "plt.ylabel(\"Accuracy\")\n",
    "plt.show()"
   ]
  },
  {
   "cell_type": "code",
   "execution_count": null,
   "id": "5ee31548",
   "metadata": {},
   "outputs": [],
   "source": [
    "# we can clearly see peak accouracy has occured around neighbors 7\n",
    "# Interpretation\n",
    "# with KNN model accuracy is near 0.7869565217391304 where we have choosen some specific column to prediction.\n"
   ]
  },
  {
   "cell_type": "markdown",
   "id": "ad84150e",
   "metadata": {},
   "source": [
    "# Function Created to calculate ROC and AUC"
   ]
  },
  {
   "cell_type": "code",
   "execution_count": 425,
   "id": "9a0bb289",
   "metadata": {},
   "outputs": [],
   "source": [
    "# funcrtion created to plot ROC Curve\n",
    "from sklearn.metrics import roc_curve,roc_auc_score\n",
    "\n",
    "def rocCurveWithAUC(df):\n",
    "    fpr, tpr, thresholds = roc_curve(y_test, df)\n",
    "    plt.plot([0, 1], [0, 1], 'k--')\n",
    "    plt.plot(fpr, tpr)\n",
    "    plt.xlabel('False Positive Rate')\n",
    "    plt.ylabel('True Positive Rate')\n",
    "    plt.title('Logistic Regression ROC curve')\n",
    "    plt.show()\n",
    "    print(\"ROC AUC\", roc_auc_score(y_test, df))\n",
    "    print(\"ROC Accuracy\", str(roc_auc_score(y_test, df)*100))"
   ]
  },
  {
   "cell_type": "markdown",
   "id": "adb0bceb",
   "metadata": {},
   "source": [
    "# K-Neighbour Confusion Matrix"
   ]
  },
  {
   "cell_type": "code",
   "execution_count": 458,
   "id": "2f3d19e1",
   "metadata": {},
   "outputs": [
    {
     "name": "stdout",
     "output_type": "stream",
     "text": [
      "[[131  18]\n",
      " [ 31  50]]\n",
      "              precision    recall  f1-score   support\n",
      "\n",
      "           0       0.81      0.88      0.84       149\n",
      "           1       0.74      0.62      0.67        81\n",
      "\n",
      "    accuracy                           0.79       230\n",
      "   macro avg       0.77      0.75      0.76       230\n",
      "weighted avg       0.78      0.79      0.78       230\n",
      "\n"
     ]
    },
    {
     "data": {
      "text/plain": [
       "<AxesSubplot:>"
      ]
     },
     "execution_count": 458,
     "metadata": {},
     "output_type": "execute_result"
    },
    {
     "data": {
      "image/png": "[encoded data removed]",
      "text/plain": [
       "<Figure size 432x288 with 2 Axes>"
      ]
     },
     "metadata": {
      "needs_background": "light"
     },
     "output_type": "display_data"
    }
   ],
   "source": [
    "# How the model is good as some time it could happen that the prediction will not work at the correct time to identify the \n",
    "# fraud so before finalizing this we have to analyze this score with some other matrix.\n",
    "knn = KNeighborsClassifier(n_neighbors=7)\n",
    "knn.fit(X_train, y_train)\n",
    "y_pred = knn.predict(X_test)\n",
    "\n",
    "print(confusion_matrix(y_test, y_pred))\n",
    "print(classification_report(y_test, y_pred))  \n",
    "sns.heatmap(confusion_matrix(y_test, y_pred))"
   ]
  },
  {
   "cell_type": "code",
   "execution_count": null,
   "id": "c8d4ddd0",
   "metadata": {},
   "outputs": [],
   "source": [
    "# As per above The Model produced 131 true positive, 50 true negative, 18 false negative, and 31 false positive.\n",
    "# The classification report shows a better f1 score for the zero class, which represents individuals who do not have diabetes."
   ]
  },
  {
   "cell_type": "markdown",
   "id": "e5c2dd6e",
   "metadata": {},
   "source": [
    "# K-Neighbor ROC and AUC"
   ]
  },
  {
   "cell_type": "code",
   "execution_count": 417,
   "id": "17fc93cf",
   "metadata": {},
   "outputs": [
    {
     "name": "stdout",
     "output_type": "stream",
     "text": [
      "0.14285714285714285\n"
     ]
    }
   ],
   "source": [
    "y_pred_probs_knn = knn.predict_proba(X_test)[:, 1]\n",
    "print(y_pred_probs_knn[0])"
   ]
  },
  {
   "cell_type": "code",
   "execution_count": 426,
   "id": "865786c0",
   "metadata": {},
   "outputs": [
    {
     "data": {
      "image/png": "[encoded data removed]",
      "text/plain": [
       "<Figure size 432x288 with 1 Axes>"
      ]
     },
     "metadata": {
      "needs_background": "light"
     },
     "output_type": "display_data"
    },
    {
     "name": "stdout",
     "output_type": "stream",
     "text": [
      "ROC AUC 0.8095534012759963\n",
      "ROC Accuracy 80.95534012759963\n"
     ]
    }
   ],
   "source": [
    "rocCurveWithAUC(y_pred_probs_knn)"
   ]
  },
  {
   "cell_type": "markdown",
   "id": "3fba71b7",
   "metadata": {},
   "source": [
    "# SVC Supervised"
   ]
  },
  {
   "cell_type": "code",
   "execution_count": 419,
   "id": "a5526e09",
   "metadata": {},
   "outputs": [
    {
     "name": "stdout",
     "output_type": "stream",
     "text": [
      "0.7608695652173914\n"
     ]
    }
   ],
   "source": [
    "# Support Vector Classifier Algorithm\n",
    "svc = SVC(kernel = 'linear', random_state=21)\n",
    "X_train, X_test, y_train, y_test =  train_test_split(X, y, test_size=0.3, random_state=21, stratify=y)\n",
    "svc.fit(X_train, y_train)\n",
    "svc_score = svc.score(X_test, y_test)\n",
    "print(svc_score)"
   ]
  },
  {
   "cell_type": "code",
   "execution_count": 323,
   "id": "912703bf",
   "metadata": {},
   "outputs": [
    {
     "name": "stdout",
     "output_type": "stream",
     "text": [
      "Accuracy: 76.08695652173914\n"
     ]
    }
   ],
   "source": [
    "y_pred = svc.predict(X_test)\n",
    "accuracy = accuracy_score(y_test, y_pred)\n",
    "print(\"Accuracy: \" + str(accuracy * 100))"
   ]
  },
  {
   "cell_type": "code",
   "execution_count": null,
   "id": "eec4de7b",
   "metadata": {},
   "outputs": [],
   "source": [
    "# Need to check how good is your model"
   ]
  },
  {
   "cell_type": "markdown",
   "id": "d68ce2b4",
   "metadata": {},
   "source": [
    "# SVC Classification - Supervised Learning"
   ]
  },
  {
   "cell_type": "code",
   "execution_count": 459,
   "id": "8a478c4f",
   "metadata": {},
   "outputs": [
    {
     "name": "stdout",
     "output_type": "stream",
     "text": [
      "[[136  13]\n",
      " [ 42  39]]\n",
      "              precision    recall  f1-score   support\n",
      "\n",
      "           0       0.76      0.91      0.83       149\n",
      "           1       0.75      0.48      0.59        81\n",
      "\n",
      "    accuracy                           0.76       230\n",
      "   macro avg       0.76      0.70      0.71       230\n",
      "weighted avg       0.76      0.76      0.75       230\n",
      "\n"
     ]
    },
    {
     "data": {
      "text/plain": [
       "<AxesSubplot:>"
      ]
     },
     "execution_count": 459,
     "metadata": {},
     "output_type": "execute_result"
    },
    {
     "data": {
      "image/png": "[encoded data removed]",
      "text/plain": [
       "<Figure size 432x288 with 2 Axes>"
      ]
     },
     "metadata": {
      "needs_background": "light"
     },
     "output_type": "display_data"
    }
   ],
   "source": [
    "svc = SVC(kernel = 'linear', random_state=32)\n",
    "svc.fit(X_train, y_train)\n",
    "y_pred = svc.predict(X_test)\n",
    "\n",
    "print(confusion_matrix(y_test, y_pred))\n",
    "print(classification_report(y_test, y_pred))\n",
    "sns.heatmap(confusion_matrix(y_test, y_pred))"
   ]
  },
  {
   "cell_type": "markdown",
   "id": "2ca52134",
   "metadata": {},
   "source": [
    "# Now Fitting Simple Regression Model"
   ]
  },
  {
   "cell_type": "code",
   "execution_count": 343,
   "id": "4e9809dc",
   "metadata": {},
   "outputs": [
    {
     "name": "stdout",
     "output_type": "stream",
     "text": [
      "[427.88019666]\n"
     ]
    }
   ],
   "source": [
    "feature = diabetes_data.drop('Glucose', axis=1)\n",
    "y_outcome = diabetes_data['Glucose'].values\n",
    "X_bmi = feature.iloc[:, 4].values\n",
    "X_bmi = X_bmi.reshape(-1, 1)\n",
    "reg = LinearRegression()\n",
    "reg.fit(X_bmi, y_outcome)\n",
    "predictions = reg.predict(X_bmi)\n",
    "predictionOnTheBasisOfAnyHigherBmiValue = reg.predict([[330]])\n",
    "print(predictionOnTheBasisOfAnyHigherBmiValue)\n",
    "# Just to set the context of lineraRegression, I have choosen a very simple example from this data set where we have tried\n",
    "# to analyze the dataset between glucose and bmi, here as per visualization between bmi and glucose, we have already concluded \n",
    "# that if BMI increases Glucode level is also going to increase and this has been proved while entering the max value\n",
    "# under reg.predict[[330]], here bmi = 330 resulting glucose level has alo got increased.\n",
    "\n",
    "# so lineraRegression has helped us to predict the actual value."
   ]
  },
  {
   "cell_type": "code",
   "execution_count": 345,
   "id": "0c63ec33",
   "metadata": {},
   "outputs": [
    {
     "data": {
      "image/png": "[encoded data removed]",
      "text/plain": [
       "<Figure size 432x288 with 1 Axes>"
      ]
     },
     "metadata": {
      "needs_background": "light"
     },
     "output_type": "display_data"
    }
   ],
   "source": [
    "plt.scatter(X_bmi, y_outcome)\n",
    "plt.plot(X_bmi, predictions, color='red')\n",
    "plt.ylabel(\"Glucose\")\n",
    "plt.xlabel(\"BMI\")\n",
    "plt.show()"
   ]
  },
  {
   "cell_type": "code",
   "execution_count": 277,
   "id": "1d68cce4",
   "metadata": {},
   "outputs": [],
   "source": [
    "# The red line represents the linear regression model fits glucose value against \n",
    "# the BMI which appears to have the positive correlation"
   ]
  },
  {
   "cell_type": "markdown",
   "id": "0f12e812",
   "metadata": {},
   "source": [
    "# Linear Regression"
   ]
  },
  {
   "cell_type": "code",
   "execution_count": 281,
   "id": "2c955302",
   "metadata": {},
   "outputs": [
    {
     "data": {
      "text/plain": [
       "0.31660043670199534"
      ]
     },
     "execution_count": 281,
     "metadata": {},
     "output_type": "execute_result"
    }
   ],
   "source": [
    "# Now Linear Regression is using all features to predict whether patient has diabetes or not.\n",
    "\n",
    "# Multiple Linear Regression Model : We will be using the old data which we have used in KNN Model.\n",
    "\n",
    "X_train, X_test, y_train, y_test =  train_test_split(X, y, test_size=0.3, random_state=42)\n",
    "reg_all = LinearRegression()\n",
    "reg_all.fit(X_train, y_train)\n",
    "reg_all.score(X_train, y_train)"
   ]
  },
  {
   "cell_type": "code",
   "execution_count": 279,
   "id": "be4c63f9",
   "metadata": {},
   "outputs": [],
   "source": [
    "# clearly visible that this linear regression doesn't fit here as the score is very less so prediction will not correct"
   ]
  },
  {
   "cell_type": "code",
   "execution_count": 280,
   "id": "a7741c7e",
   "metadata": {},
   "outputs": [
    {
     "data": {
      "text/plain": [
       "0.6527533657682196"
      ]
     },
     "execution_count": 280,
     "metadata": {},
     "output_type": "execute_result"
    }
   ],
   "source": [
    "# After Training our model, lets look at the total error squares (margin of error) with the mean_squared_error method in \n",
    "# the scikit learn module.\n",
    "# The model is provided to generate estimates by using the \"x_test\" set. It is then checked how close this generated prediction is to the \"y_test\" set.\n",
    "# The number becomes readable by inserting it into the squaring function in the numpy module\n",
    "\n",
    "mean_squared_error(y_test, y_pred, squared=False)"
   ]
  },
  {
   "cell_type": "markdown",
   "id": "4f563b7d",
   "metadata": {},
   "source": [
    "# Logistic Regression"
   ]
  },
  {
   "cell_type": "code",
   "execution_count": 368,
   "id": "97035fd7",
   "metadata": {},
   "outputs": [
    {
     "name": "stdout",
     "output_type": "stream",
     "text": [
      "Accuracy: 78.26086956521739\n"
     ]
    }
   ],
   "source": [
    "logistic = LogisticRegression()\n",
    "X_train, X_test, y_train, y_test =  train_test_split(X, y, test_size=0.3, random_state=30)\n",
    "logistic.fit(X_train, y_train)\n",
    "logistic.score(X_train, y_train)\n",
    "logis_Accuracy = logistic.predict(X_test)\n",
    "logisAccuracy = accuracy_score(y_test, logis_Accuracy)\n",
    "print(\"Accuracy: \" + str(logisAccuracy * 100))"
   ]
  },
  {
   "cell_type": "markdown",
   "id": "0144d0b4",
   "metadata": {},
   "source": [
    "# Logistic Regression Confusion Matrix"
   ]
  },
  {
   "cell_type": "code",
   "execution_count": 457,
   "id": "0c6c71db",
   "metadata": {},
   "outputs": [
    {
     "name": "stdout",
     "output_type": "stream",
     "text": [
      "[[131  18]\n",
      " [ 31  50]]\n",
      "              precision    recall  f1-score   support\n",
      "\n",
      "           0       0.81      0.88      0.84       149\n",
      "           1       0.74      0.62      0.67        81\n",
      "\n",
      "    accuracy                           0.79       230\n",
      "   macro avg       0.77      0.75      0.76       230\n",
      "weighted avg       0.78      0.79      0.78       230\n",
      "\n"
     ]
    },
    {
     "data": {
      "text/plain": [
       "<AxesSubplot:>"
      ]
     },
     "execution_count": 457,
     "metadata": {},
     "output_type": "execute_result"
    },
    {
     "data": {
      "image/png": "[encoded data removed]",
      "text/plain": [
       "<Figure size 432x288 with 2 Axes>"
      ]
     },
     "metadata": {
      "needs_background": "light"
     },
     "output_type": "display_data"
    }
   ],
   "source": [
    "print(confusion_matrix(y_test, y_pred))\n",
    "print(classification_report(y_test, y_pred))\n",
    "sns.heatmap(confusion_matrix(y_test, y_pred))"
   ]
  },
  {
   "cell_type": "markdown",
   "id": "4c55fbfb",
   "metadata": {},
   "source": [
    "# ROC Curve & AUC"
   ]
  },
  {
   "cell_type": "code",
   "execution_count": 420,
   "id": "256719ae",
   "metadata": {},
   "outputs": [
    {
     "name": "stdout",
     "output_type": "stream",
     "text": [
      "0.09502725735988943\n"
     ]
    }
   ],
   "source": [
    "# First Predicting probabilities by the model\n",
    "y_pred_probs = logistic.predict_proba(X_test)[:, 1]\n",
    "print(y_pred_probs[0])"
   ]
  },
  {
   "cell_type": "code",
   "execution_count": 427,
   "id": "8f37605d",
   "metadata": {},
   "outputs": [
    {
     "data": {
      "image/png": "[encoded data removed]",
      "text/plain": [
       "<Figure size 432x288 with 1 Axes>"
      ]
     },
     "metadata": {
      "needs_background": "light"
     },
     "output_type": "display_data"
    },
    {
     "name": "stdout",
     "output_type": "stream",
     "text": [
      "ROC AUC 0.8264147816720524\n",
      "ROC Accuracy 82.64147816720524\n"
     ]
    }
   ],
   "source": [
    "# By Dfeault, logistic regression threshold = 0.5\n",
    "rocCurveWithAUC(y_pred_probs)"
   ]
  },
  {
   "cell_type": "markdown",
   "id": "4b0a4a22",
   "metadata": {},
   "source": [
    "# HyperParameter Tunning for K-Neighbors classifier"
   ]
  },
  {
   "cell_type": "code",
   "execution_count": 450,
   "id": "26b8ac62",
   "metadata": {},
   "outputs": [
    {
     "data": {
      "text/html": [
       "<div>\n",
       "<style scoped>\n",
       "    .dataframe tbody tr th:only-of-type {\n",
       "        vertical-align: middle;\n",
       "    }\n",
       "\n",
       "    .dataframe tbody tr th {\n",
       "        vertical-align: top;\n",
       "    }\n",
       "\n",
       "    .dataframe thead th {\n",
       "        text-align: right;\n",
       "    }\n",
       "</style>\n",
       "<table border=\"1\" class=\"dataframe\">\n",
       "  <thead>\n",
       "    <tr style=\"text-align: right;\">\n",
       "      <th></th>\n",
       "      <th>mean_fit_time</th>\n",
       "      <th>std_fit_time</th>\n",
       "      <th>mean_score_time</th>\n",
       "      <th>std_score_time</th>\n",
       "      <th>param_metric</th>\n",
       "      <th>param_n_neighbors</th>\n",
       "      <th>params</th>\n",
       "      <th>split0_test_score</th>\n",
       "      <th>split1_test_score</th>\n",
       "      <th>split2_test_score</th>\n",
       "      <th>split3_test_score</th>\n",
       "      <th>split4_test_score</th>\n",
       "      <th>mean_test_score</th>\n",
       "      <th>std_test_score</th>\n",
       "      <th>rank_test_score</th>\n",
       "    </tr>\n",
       "  </thead>\n",
       "  <tbody>\n",
       "    <tr>\n",
       "      <th>0</th>\n",
       "      <td>0.003776</td>\n",
       "      <td>0.004702</td>\n",
       "      <td>0.003701</td>\n",
       "      <td>0.003627</td>\n",
       "      <td>euclidean</td>\n",
       "      <td>1</td>\n",
       "      <td>{'metric': 'euclidean', 'n_neighbors': 1}</td>\n",
       "      <td>0.653595</td>\n",
       "      <td>0.620915</td>\n",
       "      <td>0.647059</td>\n",
       "      <td>0.738562</td>\n",
       "      <td>0.657895</td>\n",
       "      <td>0.663605</td>\n",
       "      <td>0.039617</td>\n",
       "      <td>40</td>\n",
       "    </tr>\n",
       "    <tr>\n",
       "      <th>1</th>\n",
       "      <td>0.003312</td>\n",
       "      <td>0.004063</td>\n",
       "      <td>0.001840</td>\n",
       "      <td>0.003150</td>\n",
       "      <td>euclidean</td>\n",
       "      <td>2</td>\n",
       "      <td>{'metric': 'euclidean', 'n_neighbors': 2}</td>\n",
       "      <td>0.732026</td>\n",
       "      <td>0.686275</td>\n",
       "      <td>0.699346</td>\n",
       "      <td>0.725490</td>\n",
       "      <td>0.697368</td>\n",
       "      <td>0.708101</td>\n",
       "      <td>0.017567</td>\n",
       "      <td>38</td>\n",
       "    </tr>\n",
       "    <tr>\n",
       "      <th>2</th>\n",
       "      <td>0.001619</td>\n",
       "      <td>0.003238</td>\n",
       "      <td>0.004662</td>\n",
       "      <td>0.006339</td>\n",
       "      <td>euclidean</td>\n",
       "      <td>3</td>\n",
       "      <td>{'metric': 'euclidean', 'n_neighbors': 3}</td>\n",
       "      <td>0.732026</td>\n",
       "      <td>0.653595</td>\n",
       "      <td>0.699346</td>\n",
       "      <td>0.764706</td>\n",
       "      <td>0.703947</td>\n",
       "      <td>0.710724</td>\n",
       "      <td>0.036897</td>\n",
       "      <td>37</td>\n",
       "    </tr>\n",
       "    <tr>\n",
       "      <th>3</th>\n",
       "      <td>0.000000</td>\n",
       "      <td>0.000000</td>\n",
       "      <td>0.003363</td>\n",
       "      <td>0.006726</td>\n",
       "      <td>euclidean</td>\n",
       "      <td>4</td>\n",
       "      <td>{'metric': 'euclidean', 'n_neighbors': 4}</td>\n",
       "      <td>0.745098</td>\n",
       "      <td>0.673203</td>\n",
       "      <td>0.705882</td>\n",
       "      <td>0.738562</td>\n",
       "      <td>0.703947</td>\n",
       "      <td>0.713338</td>\n",
       "      <td>0.026075</td>\n",
       "      <td>36</td>\n",
       "    </tr>\n",
       "    <tr>\n",
       "      <th>4</th>\n",
       "      <td>0.000000</td>\n",
       "      <td>0.000000</td>\n",
       "      <td>0.006269</td>\n",
       "      <td>0.007899</td>\n",
       "      <td>euclidean</td>\n",
       "      <td>5</td>\n",
       "      <td>{'metric': 'euclidean', 'n_neighbors': 5}</td>\n",
       "      <td>0.718954</td>\n",
       "      <td>0.660131</td>\n",
       "      <td>0.732026</td>\n",
       "      <td>0.758170</td>\n",
       "      <td>0.736842</td>\n",
       "      <td>0.721225</td>\n",
       "      <td>0.033055</td>\n",
       "      <td>33</td>\n",
       "    </tr>\n",
       "  </tbody>\n",
       "</table>\n",
       "</div>"
      ],
      "text/plain": [
       "   mean_fit_time  std_fit_time  mean_score_time  std_score_time param_metric  \\\n",
       "0       0.003776      0.004702         0.003701        0.003627    euclidean   \n",
       "1       0.003312      0.004063         0.001840        0.003150    euclidean   \n",
       "2       0.001619      0.003238         0.004662        0.006339    euclidean   \n",
       "3       0.000000      0.000000         0.003363        0.006726    euclidean   \n",
       "4       0.000000      0.000000         0.006269        0.007899    euclidean   \n",
       "\n",
       "  param_n_neighbors                                     params  \\\n",
       "0                 1  {'metric': 'euclidean', 'n_neighbors': 1}   \n",
       "1                 2  {'metric': 'euclidean', 'n_neighbors': 2}   \n",
       "2                 3  {'metric': 'euclidean', 'n_neighbors': 3}   \n",
       "3                 4  {'metric': 'euclidean', 'n_neighbors': 4}   \n",
       "4                 5  {'metric': 'euclidean', 'n_neighbors': 5}   \n",
       "\n",
       "   split0_test_score  split1_test_score  split2_test_score  split3_test_score  \\\n",
       "0           0.653595           0.620915           0.647059           0.738562   \n",
       "1           0.732026           0.686275           0.699346           0.725490   \n",
       "2           0.732026           0.653595           0.699346           0.764706   \n",
       "3           0.745098           0.673203           0.705882           0.738562   \n",
       "4           0.718954           0.660131           0.732026           0.758170   \n",
       "\n",
       "   split4_test_score  mean_test_score  std_test_score  rank_test_score  \n",
       "0           0.657895         0.663605        0.039617               40  \n",
       "1           0.697368         0.708101        0.017567               38  \n",
       "2           0.703947         0.710724        0.036897               37  \n",
       "3           0.703947         0.713338        0.026075               36  \n",
       "4           0.736842         0.721225        0.033055               33  "
      ]
     },
     "execution_count": 450,
     "metadata": {},
     "output_type": "execute_result"
    }
   ],
   "source": [
    "from sklearn.model_selection import GridSearchCV, KFold\n",
    "metrics = ['euclidean','manhattan']\n",
    "neighbors = np.arange(1,21)\n",
    "param_grid = dict(metric=metrics, n_neighbors=neighbors)\n",
    "knn = KNeighborsClassifier()\n",
    "knn_cv = GridSearchCV(knn, param_grid, scoring='accuracy', refit='True')\n",
    "knn_cv.fit(X, y)\n",
    "knn_val=pd.DataFrame(knn_cv.cv_results_)\n",
    "knn_val.head()"
   ]
  },
  {
   "cell_type": "code",
   "execution_count": 446,
   "id": "c036dab0",
   "metadata": {},
   "outputs": [
    {
     "name": "stdout",
     "output_type": "stream",
     "text": [
      "{'metric': 'euclidean', 'n_neighbors': 14} 0.760500515995872\n"
     ]
    }
   ],
   "source": [
    "print(knn_cv.best_params_, knn_cv.best_score_)"
   ]
  },
  {
   "cell_type": "markdown",
   "id": "3f4ed990",
   "metadata": {},
   "source": [
    "# HyperParameter Tunning for Logistic"
   ]
  },
  {
   "cell_type": "code",
   "execution_count": 454,
   "id": "9f1d4b0a",
   "metadata": {},
   "outputs": [
    {
     "name": "stdout",
     "output_type": "stream",
     "text": [
      "0.6648033856462705\n"
     ]
    },
    {
     "name": "stderr",
     "output_type": "stream",
     "text": [
      "C:\\Users\\gkora\\anaconda3\\lib\\site-packages\\sklearn\\linear_model\\_sag.py:352: ConvergenceWarning: The max_iter was reached which means the coef_ did not converge\n",
      "  warnings.warn(\n",
      "C:\\Users\\gkora\\anaconda3\\lib\\site-packages\\sklearn\\linear_model\\_sag.py:352: ConvergenceWarning: The max_iter was reached which means the coef_ did not converge\n",
      "  warnings.warn(\n",
      "C:\\Users\\gkora\\anaconda3\\lib\\site-packages\\sklearn\\linear_model\\_sag.py:352: ConvergenceWarning: The max_iter was reached which means the coef_ did not converge\n",
      "  warnings.warn(\n",
      "C:\\Users\\gkora\\anaconda3\\lib\\site-packages\\sklearn\\linear_model\\_sag.py:352: ConvergenceWarning: The max_iter was reached which means the coef_ did not converge\n",
      "  warnings.warn(\n",
      "C:\\Users\\gkora\\anaconda3\\lib\\site-packages\\sklearn\\linear_model\\_sag.py:352: ConvergenceWarning: The max_iter was reached which means the coef_ did not converge\n",
      "  warnings.warn(\n",
      "C:\\Users\\gkora\\anaconda3\\lib\\site-packages\\sklearn\\linear_model\\_sag.py:352: ConvergenceWarning: The max_iter was reached which means the coef_ did not converge\n",
      "  warnings.warn(\n"
     ]
    }
   ],
   "source": [
    "kf = KFold(n_splits=5, shuffle=True, random_state=42)\n",
    "param_grid = {\"solver\": [\"sag\"]}\n",
    "logistic = LogisticRegression()\n",
    "log_cv = GridSearchCV(logistic, param_grid, cv=kf)\n",
    "log_cv.fit(X_train, y_train)\n",
    "print(log_cv.best_score_)\n"
   ]
  },
  {
   "cell_type": "markdown",
   "id": "e7f23b85",
   "metadata": {},
   "source": [
    "# Conclusion"
   ]
  },
  {
   "cell_type": "code",
   "execution_count": 456,
   "id": "2dfb6d0b",
   "metadata": {},
   "outputs": [],
   "source": [
    "#1. All libraries has been imported as per the requirment.\n",
    "#2. imported csv file through pandas\n",
    "#3. Did some manipulation of data to execute some use case, like: added NaN and 1 duplicate entry as well.\n",
    "#4. Did exploratory data analysis to check the info of the data.\n",
    "#5. removed NaN from the record as the occurence was very less.\n",
    "#6. replaced all 0 with NaN but we have not removed the data as occurence was greater than threshold so calcualted the mean value \n",
    "   #and replace NaN\n",
    "#7. Then deleted the duplicate values as well.\n",
    "#8. Instead of using all data for Analysis I have chosen few columns like - 'Pregnancies','Glucose', 'Insulin','BMI','Age'\n",
    "#9. Did Data Visualization before and after removing the null values. We can clearly say we are using this visualization\n",
    "   #to see the changes that we can see after those 0 converted to NaN values are removed from the dataset and we can clearly see\n",
    "   #the difference in BMI & Insulin etc...\n",
    "#10.Also tried to create the relation in between some column data like Glucose and BMI, where when BMI is increasing Glucose\n",
    "   #level is also getting increased and this theory has been proved through Linear Regression model, where after fitting the data\n",
    "   #score. out of all model KNN classifier was the best algorithm to predict the best score with 0.782608695652174\n",
    "#12.Now started to compare this score with matrix to identify the precision, recall and f1 score as well.\n",
    "#13.Then check the performance through ROC Curve & AUC\n",
    "#14.Hyper parameter Tunning has also been done to check the tunning and conclude the best parameter of our model.\n"
   ]
  },
  {
   "cell_type": "code",
   "execution_count": null,
   "id": "e6de4cdb",
   "metadata": {},
   "outputs": [],
   "source": []
  }
 ],
 "metadata": {
  "kernelspec": {
   "display_name": "Python 3 (ipykernel)",
   "language": "python",
   "name": "python3"
  },
  "language_info": {
   "codemirror_mode": {
    "name": "ipython",
    "version": 3
   },
   "file_extension": ".py",
   "mimetype": "text/x-python",
   "name": "python",
   "nbconvert_exporter": "python",
   "pygments_lexer": "ipython3",
   "version": "3.9.12"
  }
 },
 "nbformat": 4,
 "nbformat_minor": 5
}
