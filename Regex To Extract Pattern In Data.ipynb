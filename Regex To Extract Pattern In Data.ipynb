{
 "cells": [
  {
   "cell_type": "code",
   "execution_count": 21,
   "id": "f481d63a",
   "metadata": {},
   "outputs": [],
   "source": [
    "# Regular Expression\n",
    "import re"
   ]
  },
  {
   "cell_type": "code",
   "execution_count": 22,
   "id": "23979a69",
   "metadata": {},
   "outputs": [
    {
     "name": "stdout",
     "output_type": "stream",
     "text": [
      "['$5', '$10']\n"
     ]
    }
   ],
   "source": [
    "Text = \"The price of water is $5 and coke is $10\"\n",
    "\n",
    "result = re.findall(\"\\W\\d+\", Text)\n",
    "print(result)"
   ]
  },
  {
   "cell_type": "code",
   "execution_count": 32,
   "id": "591f21c8",
   "metadata": {},
   "outputs": [
    {
     "name": "stdout",
     "output_type": "stream",
     "text": [
      "['LK089343', 'UK904567', 'MX787654']\n"
     ]
    }
   ],
   "source": [
    "# Extracting passport number from the text\n",
    "\n",
    "text = \"My indian passport number is LK089343 and for my wife is UK904567 and my wife is MX787654\"\n",
    "passResult = re.findall(r'[A-Z]{2}[0-9]{6}',text)\n",
    "print(passResult)"
   ]
  },
  {
   "cell_type": "code",
   "execution_count": 34,
   "id": "c1547a49",
   "metadata": {},
   "outputs": [
    {
     "name": "stdout",
     "output_type": "stream",
     "text": [
      "['+353 9876 654 322', '+91 7894 565 122', '+1 67655 554', '+916765654323']\n"
     ]
    }
   ],
   "source": [
    "a = '+353 9876 654 322 skgaslkdgslk +91 7894 565 122 wkjfhwekufhwelkjfwklfgwlfgjhgrh6416357253t $^%$&^%  +1 67655 554 765 788 iuyugjhgdjhwgf +916765654323' \n",
    "identifyNumber = re.findall('\\+\\d+\\s?\\d{4}\\s?\\d+\\s?\\d+', a)\n",
    "print(identifyNumber)"
   ]
  },
  {
   "cell_type": "code",
   "execution_count": null,
   "id": "d6878876",
   "metadata": {},
   "outputs": [],
   "source": []
  }
 ],
 "metadata": {
  "kernelspec": {
   "display_name": "Python 3 (ipykernel)",
   "language": "python",
   "name": "python3"
  },
  "language_info": {
   "codemirror_mode": {
    "name": "ipython",
    "version": 3
   },
   "file_extension": ".py",
   "mimetype": "text/x-python",
   "name": "python",
   "nbconvert_exporter": "python",
   "pygments_lexer": "ipython3",
   "version": "3.9.12"
  }
 },
 "nbformat": 4,
 "nbformat_minor": 5
}
